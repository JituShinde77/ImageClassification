{
 "cells": [
  {
   "cell_type": "code",
   "execution_count": 95,
   "metadata": {},
   "outputs": [],
   "source": [
    "# https://github.com/DustinAlandzes/mnist-lenet-keras/blob/master/mnist.py\n",
    "from sklearn import datasets\n",
    "import matplotlib.pyplot as plt"
   ]
  },
  {
   "cell_type": "code",
   "execution_count": 136,
   "metadata": {},
   "outputs": [],
   "source": [
    "from keras.datasets import mnist\n",
    "from keras.utils import np_utils\n",
    "from keras.optimizers import SGD, Adagrad, Adam\n",
    "from keras.models import Sequential\n",
    "from keras.layers.core import Activation, Flatten, Dense\n",
    "from keras.layers.convolutional import Convolution2D, MaxPooling2D\n",
    "\n",
    "\n"
   ]
  },
  {
   "cell_type": "code",
   "execution_count": 137,
   "metadata": {},
   "outputs": [
    {
     "data": {
      "text/plain": [
       "(60000, 28, 28)"
      ]
     },
     "execution_count": 137,
     "metadata": {},
     "output_type": "execute_result"
    }
   ],
   "source": [
    "weightsPath = \"weights/lenet_weights.hdf5\"\n",
    "(X_train, y_train), (X_test, y_test) = mnist.load_data()\n",
    "X_train.shape"
   ]
  },
  {
   "cell_type": "code",
   "execution_count": 138,
   "metadata": {},
   "outputs": [
    {
     "data": {
      "text/plain": [
       "<Figure size 432x288 with 0 Axes>"
      ]
     },
     "metadata": {},
     "output_type": "display_data"
    },
    {
     "data": {
      "image/png": "[encoded data removed]",
      "text/plain": [
       "<Figure size 288x288 with 1 Axes>"
      ]
     },
     "metadata": {
      "needs_background": "light"
     },
     "output_type": "display_data"
    }
   ],
   "source": [
    "plt.gray()\n",
    "plt.matshow(X_train[0])\n",
    "plt.show()"
   ]
  },
  {
   "cell_type": "code",
   "execution_count": 115,
   "metadata": {},
   "outputs": [
    {
     "data": {
      "text/plain": [
       "(60000, 28, 28, 1)"
      ]
     },
     "execution_count": 115,
     "metadata": {},
     "output_type": "execute_result"
    }
   ],
   "source": [
    "# Channel Last where depth at the last in convolution layer 4 dimesions\n",
    "# 1. batch_size, height, width, channel_depth\n",
    "X_train = X_train.reshape((X_train.shape[0], 28, 28, 1))\n",
    "X_test = X_test.reshape((X_test.shape[0], 28, 28, 1))\n",
    "X_train.shape"
   ]
  },
  {
   "cell_type": "code",
   "execution_count": 108,
   "metadata": {},
   "outputs": [
    {
     "data": {
      "text/plain": [
       "5"
      ]
     },
     "execution_count": 108,
     "metadata": {},
     "output_type": "execute_result"
    }
   ],
   "source": [
    "y_train[0]\n"
   ]
  },
  {
   "cell_type": "code",
   "execution_count": 109,
   "metadata": {},
   "outputs": [],
   "source": [
    "X_train = X_train / 255.0\n",
    "X_test = X_test / 255.0"
   ]
  },
  {
   "cell_type": "code",
   "execution_count": 110,
   "metadata": {
    "scrolled": true
   },
   "outputs": [
    {
     "name": "stdout",
     "output_type": "stream",
     "text": [
      "[[0. 0. 0. 0. 0. 1. 0. 0. 0. 0.]\n",
      " [1. 0. 0. 0. 0. 0. 0. 0. 0. 0.]\n",
      " [0. 0. 0. 0. 1. 0. 0. 0. 0. 0.]\n",
      " [0. 1. 0. 0. 0. 0. 0. 0. 0. 0.]\n",
      " [0. 0. 0. 0. 0. 0. 0. 0. 0. 1.]\n",
      " [0. 0. 1. 0. 0. 0. 0. 0. 0. 0.]]\n"
     ]
    }
   ],
   "source": [
    "y_train = np_utils.to_categorical(y_train, 10) \n",
    "y_test = np_utils.to_categorical(y_test, 10)\n",
    "print (y_train[0:6])"
   ]
  },
  {
   "cell_type": "code",
   "execution_count": 111,
   "metadata": {},
   "outputs": [],
   "source": [
    "opt = SGD(lr=0.01)"
   ]
  },
  {
   "cell_type": "code",
   "execution_count": 132,
   "metadata": {},
   "outputs": [],
   "source": [
    "class LeNet():\n",
    "    \n",
    "    @staticmethod\n",
    "    def build(width, height, depth, classes):#, weightsPath = None):\n",
    "        \n",
    "        # initialize the model\n",
    "        model = Sequential()\n",
    "        \n",
    "        # first set of CONV => RELU => POOL\n",
    "        model.add(Convolution2D(20, kernel_size=(5, 5), padding='same', input_shape=(height, width, depth)))\n",
    "        \n",
    "        model.add(Activation('relu'))\n",
    "        model.add(MaxPooling2D(pool_size=(2, 2), strides=(2, 2)))\n",
    "        \n",
    "        # Second set of Conv => Relu => Pool\n",
    "        model.add(Convolution2D(50, kernel_size=(5, 5), padding='same'))\n",
    "        model.add(Activation('relu'))\n",
    "        model.add(MaxPooling2D(pool_size=(2, 2), strides=(2, 2)))\n",
    "        \n",
    "        # set of FC => Relu layers\n",
    "        model.add(Flatten())\n",
    "        model.add(Dense(500))\n",
    "        model.add(Activation('relu'))\n",
    "        \n",
    "        model.add(Dense(classes))\n",
    "        model.add(Activation(\"softmax\"))\n",
    "        \n",
    "        #if weightsPath is not None:\n",
    "            \n",
    "        #model.load_weights(weightsPath)\n",
    "        return model\n",
    "            \n",
    "    \n",
    "    "
   ]
  },
  {
   "cell_type": "code",
   "execution_count": 133,
   "metadata": {},
   "outputs": [],
   "source": [
    "# X_train = X_train.reshape(60000, 784)\n",
    "# X_test = X_test.reshape(10000, 784)"
   ]
  },
  {
   "cell_type": "code",
   "execution_count": 134,
   "metadata": {},
   "outputs": [
    {
     "name": "stdout",
     "output_type": "stream",
     "text": [
      "Model: \"sequential_22\"\n",
      "_________________________________________________________________\n",
      "Layer (type)                 Output Shape              Param #   \n",
      "=================================================================\n",
      "conv2d_32 (Conv2D)           (None, 28, 28, 20)        520       \n",
      "_________________________________________________________________\n",
      "activation_55 (Activation)   (None, 28, 28, 20)        0         \n",
      "_________________________________________________________________\n",
      "max_pooling2d_32 (MaxPooling (None, 14, 14, 20)        0         \n",
      "_________________________________________________________________\n",
      "conv2d_33 (Conv2D)           (None, 14, 14, 50)        25050     \n",
      "_________________________________________________________________\n",
      "activation_56 (Activation)   (None, 14, 14, 50)        0         \n",
      "_________________________________________________________________\n",
      "max_pooling2d_33 (MaxPooling (None, 7, 7, 50)          0         \n",
      "_________________________________________________________________\n",
      "flatten_13 (Flatten)         (None, 2450)              0         \n",
      "_________________________________________________________________\n",
      "dense_24 (Dense)             (None, 500)               1225500   \n",
      "_________________________________________________________________\n",
      "activation_57 (Activation)   (None, 500)               0         \n",
      "_________________________________________________________________\n",
      "dense_25 (Dense)             (None, 10)                5010      \n",
      "_________________________________________________________________\n",
      "activation_58 (Activation)   (None, 10)                0         \n",
      "=================================================================\n",
      "Total params: 1,256,080\n",
      "Trainable params: 1,256,080\n",
      "Non-trainable params: 0\n",
      "_________________________________________________________________\n",
      "None\n"
     ]
    }
   ],
   "source": [
    "model = LeNet.build(width= 28, height=28, depth=1, classes=10)#, weights)\n",
    "\n",
    "print (model.summary())\n",
    "model.compile(loss= \"categorical_crossentropy\", optimizer = opt, metrics=['accuracy'])\n"
   ]
  },
  {
   "cell_type": "code",
   "execution_count": 135,
   "metadata": {
    "scrolled": true
   },
   "outputs": [
    {
     "name": "stderr",
     "output_type": "stream",
     "text": [
      "c:\\users\\jit\\appdata\\local\\programs\\python\\python37\\lib\\site-packages\\ipykernel_launcher.py:1: UserWarning: The `nb_epoch` argument in `fit` has been renamed `epochs`.\n",
      "  \"\"\"Entry point for launching an IPython kernel.\n"
     ]
    },
    {
     "name": "stdout",
     "output_type": "stream",
     "text": [
      "Train on 60000 samples, validate on 10000 samples\n",
      "Epoch 1/20\n",
      "60000/60000 [==============================] - 77s 1ms/step - loss: 1.0426 - accuracy: 0.7244 - val_loss: 0.3135 - val_accuracy: 0.9084\n",
      "Epoch 2/20\n",
      "60000/60000 [==============================] - 75s 1ms/step - loss: 0.2604 - accuracy: 0.9224 - val_loss: 0.2342 - val_accuracy: 0.9283\n",
      "Epoch 3/20\n",
      "60000/60000 [==============================] - 76s 1ms/step - loss: 0.1848 - accuracy: 0.9450 - val_loss: 0.1481 - val_accuracy: 0.9565\n",
      "Epoch 4/20\n",
      "60000/60000 [==============================] - 75s 1ms/step - loss: 0.1434 - accuracy: 0.9578 - val_loss: 0.1214 - val_accuracy: 0.9646\n",
      "Epoch 5/20\n",
      "60000/60000 [==============================] - 74s 1ms/step - loss: 0.1186 - accuracy: 0.9648 - val_loss: 0.0954 - val_accuracy: 0.9705\n",
      "Epoch 6/20\n",
      "60000/60000 [==============================] - 78s 1ms/step - loss: 0.1002 - accuracy: 0.9705 - val_loss: 0.0946 - val_accuracy: 0.9711\n",
      "Epoch 7/20\n",
      "60000/60000 [==============================] - 76s 1ms/step - loss: 0.0886 - accuracy: 0.9735 - val_loss: 0.0893 - val_accuracy: 0.9744\n",
      "Epoch 8/20\n",
      "60000/60000 [==============================] - 73s 1ms/step - loss: 0.0795 - accuracy: 0.9763 - val_loss: 0.1026 - val_accuracy: 0.9668\n",
      "Epoch 9/20\n",
      "60000/60000 [==============================] - 73s 1ms/step - loss: 0.0725 - accuracy: 0.9788 - val_loss: 0.0664 - val_accuracy: 0.9792\n",
      "Epoch 10/20\n",
      "60000/60000 [==============================] - 74s 1ms/step - loss: 0.0667 - accuracy: 0.9800 - val_loss: 0.0734 - val_accuracy: 0.9767\n",
      "Epoch 11/20\n",
      "60000/60000 [==============================] - 73s 1ms/step - loss: 0.0619 - accuracy: 0.9815 - val_loss: 0.0559 - val_accuracy: 0.9832\n",
      "Epoch 12/20\n",
      "60000/60000 [==============================] - 74s 1ms/step - loss: 0.0582 - accuracy: 0.9826 - val_loss: 0.0529 - val_accuracy: 0.9828\n",
      "Epoch 13/20\n",
      "60000/60000 [==============================] - 73s 1ms/step - loss: 0.0544 - accuracy: 0.9837 - val_loss: 0.0501 - val_accuracy: 0.9837\n",
      "Epoch 14/20\n",
      "60000/60000 [==============================] - 75s 1ms/step - loss: 0.0513 - accuracy: 0.9844 - val_loss: 0.0477 - val_accuracy: 0.9836\n",
      "Epoch 15/20\n",
      "60000/60000 [==============================] - 78s 1ms/step - loss: 0.0490 - accuracy: 0.9854 - val_loss: 0.0431 - val_accuracy: 0.9849\n",
      "Epoch 16/20\n",
      "60000/60000 [==============================] - 77s 1ms/step - loss: 0.0468 - accuracy: 0.9858 - val_loss: 0.0442 - val_accuracy: 0.9855\n",
      "Epoch 17/20\n",
      "60000/60000 [==============================] - 78s 1ms/step - loss: 0.0444 - accuracy: 0.9863 - val_loss: 0.0429 - val_accuracy: 0.9851\n",
      "Epoch 18/20\n",
      "60000/60000 [==============================] - 81s 1ms/step - loss: 0.0425 - accuracy: 0.9872 - val_loss: 0.0414 - val_accuracy: 0.9851\n",
      "Epoch 19/20\n",
      "60000/60000 [==============================] - 77s 1ms/step - loss: 0.0403 - accuracy: 0.9880 - val_loss: 0.0424 - val_accuracy: 0.9853\n",
      "Epoch 20/20\n",
      "60000/60000 [==============================] - 79s 1ms/step - loss: 0.0390 - accuracy: 0.9879 - val_loss: 0.0382 - val_accuracy: 0.9866\n"
     ]
    },
    {
     "data": {
      "text/plain": [
       "<keras.callbacks.callbacks.History at 0x1bbd30b2e80>"
      ]
     },
     "execution_count": 135,
     "metadata": {},
     "output_type": "execute_result"
    }
   ],
   "source": [
    "model.fit(X_train, y_train, batch_size=128, nb_epoch = 20, verbose = 1, validation_data=(X_test, y_test))"
   ]
  },
  {
   "cell_type": "code",
   "execution_count": 139,
   "metadata": {},
   "outputs": [],
   "source": [
    "\n",
    "model.save_weights(weightsPath, overwrite=True)\n"
   ]
  },
  {
   "cell_type": "code",
   "execution_count": null,
   "metadata": {},
   "outputs": [],
   "source": []
  }
 ],
 "metadata": {
  "kernelspec": {
   "display_name": "Python 3",
   "language": "python",
   "name": "python3"
  },
  "language_info": {
   "codemirror_mode": {
    "name": "ipython",
    "version": 3
   },
   "file_extension": ".py",
   "mimetype": "text/x-python",
   "name": "python",
   "nbconvert_exporter": "python",
   "pygments_lexer": "ipython3",
   "version": "3.7.3"
  }
 },
 "nbformat": 4,
 "nbformat_minor": 2
}
